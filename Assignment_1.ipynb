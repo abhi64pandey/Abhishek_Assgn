{
 "cells": [
  {
   "cell_type": "code",
   "execution_count": null,
   "id": "cecdc98f",
   "metadata": {},
   "outputs": [],
   "source": [
    "Q1 - Solution \n",
    "\n",
    "* -- Expression \n",
    "'hello' -- Value\n",
    "-87.8 -- Value\n",
    "- -- Expression\n",
    "/ -- Expression\n",
    "+ -- Expression\n",
    "6 -- Value"
   ]
  },
  {
   "cell_type": "code",
   "execution_count": null,
   "id": "95770005",
   "metadata": {},
   "outputs": [],
   "source": [
    "Q2- Solution\n",
    "\n",
    "String: String can be written in quotes eg: \"abhi\" , \"sudh\"\n",
    "Variable: Variable is the thing which stores the data like a container"
   ]
  },
  {
   "cell_type": "code",
   "execution_count": null,
   "id": "547b532b",
   "metadata": {},
   "outputs": [],
   "source": [
    "Q3- Solution\n",
    "\n",
    "Integer -- Integer can only store the numerical values.\n",
    "Set -- Set helps to remove the duplicates.\n",
    "List -- List helps to store multiple data items in single variable.\n",
    "Float -- Float can store only floating variable."
   ]
  },
  {
   "cell_type": "code",
   "execution_count": null,
   "id": "daf5c8f7",
   "metadata": {},
   "outputs": [],
   "source": [
    "Q4- Solution\n",
    "\n",
    "Expressions are made up of values,containers & mathematical operators.\n",
    "Eg:- z = 4 +9. Expressions are used to evaluate the value and present the outcome.    "
   ]
  },
  {
   "cell_type": "code",
   "execution_count": null,
   "id": "5a8d5b3d",
   "metadata": {},
   "outputs": [],
   "source": [
    "Q5- Solution\n",
    "\n",
    "Expressions are made up of values,containers & mathematical operators \n",
    "whereas the statement is just a command that a python interpreter executes eg: print"
   ]
  },
  {
   "cell_type": "code",
   "execution_count": null,
   "id": "aab5f5c3",
   "metadata": {},
   "outputs": [],
   "source": [
    "Q6- Solution\n",
    "\n",
    "The Variable Bacon contains 23 as solution. Working as below:"
   ]
  },
  {
   "cell_type": "code",
   "execution_count": 2,
   "id": "8a644360",
   "metadata": {},
   "outputs": [],
   "source": [
    "bacon = 22"
   ]
  },
  {
   "cell_type": "code",
   "execution_count": 3,
   "id": "30d4cd3b",
   "metadata": {},
   "outputs": [
    {
     "data": {
      "text/plain": [
       "23"
      ]
     },
     "execution_count": 3,
     "metadata": {},
     "output_type": "execute_result"
    }
   ],
   "source": [
    "bacon + 1"
   ]
  },
  {
   "cell_type": "code",
   "execution_count": null,
   "id": "e9ce6029",
   "metadata": {},
   "outputs": [],
   "source": [
    "Q7- Solution\n",
    "\n",
    "The values will remain the for both the terms.Please find the working as below:"
   ]
  },
  {
   "cell_type": "code",
   "execution_count": 4,
   "id": "5a2b94a0",
   "metadata": {},
   "outputs": [
    {
     "data": {
      "text/plain": [
       "'spamspamspam'"
      ]
     },
     "execution_count": 4,
     "metadata": {},
     "output_type": "execute_result"
    }
   ],
   "source": [
    "\"spam\" + \"spamspam\""
   ]
  },
  {
   "cell_type": "code",
   "execution_count": 5,
   "id": "9482fcb9",
   "metadata": {},
   "outputs": [
    {
     "data": {
      "text/plain": [
       "'spamspamspam'"
      ]
     },
     "execution_count": 5,
     "metadata": {},
     "output_type": "execute_result"
    }
   ],
   "source": [
    "\"spam\"*3"
   ]
  },
  {
   "cell_type": "code",
   "execution_count": null,
   "id": "77eb5a00",
   "metadata": {},
   "outputs": [],
   "source": [
    "Q8- Solution\n",
    "\n",
    "Because we cannot start a variable with integer name, if we have too then we should start the alphabet name then an integer.\n",
    "eg: a100 or abhi100."
   ]
  },
  {
   "cell_type": "code",
   "execution_count": null,
   "id": "ba25eaa9",
   "metadata": {},
   "outputs": [],
   "source": [
    "Q9- Solution\n",
    "\n",
    "str(), int() , float()"
   ]
  },
  {
   "cell_type": "code",
   "execution_count": null,
   "id": "6588b828",
   "metadata": {},
   "outputs": [],
   "source": [
    "Q10- Solution\n",
    "\n",
    "The reason why expression cause an error is beacuse 99 is an integer and hence it cannot be concatenated with strings.\n",
    "If we have to do concatenate then we will have to do typecasting.Below is the working for same."
   ]
  },
  {
   "cell_type": "code",
   "execution_count": 9,
   "id": "9e5a569d",
   "metadata": {},
   "outputs": [
    {
     "data": {
      "text/plain": [
       "'I have eaten 99 burritos'"
      ]
     },
     "execution_count": 9,
     "metadata": {},
     "output_type": "execute_result"
    }
   ],
   "source": [
    "\"I have eaten \" + str( 99 ) + \" burritos\""
   ]
  }
 ],
 "metadata": {
  "kernelspec": {
   "display_name": "Python 3 (ipykernel)",
   "language": "python",
   "name": "python3"
  },
  "language_info": {
   "codemirror_mode": {
    "name": "ipython",
    "version": 3
   },
   "file_extension": ".py",
   "mimetype": "text/x-python",
   "name": "python",
   "nbconvert_exporter": "python",
   "pygments_lexer": "ipython3",
   "version": "3.9.7"
  }
 },
 "nbformat": 4,
 "nbformat_minor": 5
}
